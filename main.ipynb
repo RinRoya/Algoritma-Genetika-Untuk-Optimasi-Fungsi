{
 "cells": [
  {
   "cell_type": "markdown",
   "metadata": {},
   "source": [
    "# Algoritma Genetika Untuk Optimasi Fungsi"
   ]
  },
  {
   "cell_type": "markdown",
   "metadata": {},
   "source": [
    "## Permasalahan\n",
    "Mencari nilai $x_1, x_2, x_3$ yang dapat meminimalkan fungsi\n",
    "$$f(x_1,x_2,x_3)=(x_1+2x_2-7)^2+(2x_1+x_2-5)^2+(x_2+x_3)^2$$\n",
    "dengan $-10<x_1,x_2,x_3<10$ menggunakan algoritma genetika, dimana probabilitas terjadinya crossover 0.99, probabilitas terjadinya mutasi 0.98 dan banyaknya kromosom adalah 100"
   ]
  },
  {
   "cell_type": "markdown",
   "metadata": {},
   "source": [
    "## Pseudocode Algoritma Genetika\n",
    "**START** <br>\n",
    "Membentuk kromosom <br>\n",
    "mendefinisikan fungsi fitnes <br>\n",
    "Membentuk populasi awal ($n$ kromosom) <br>\n",
    "Menentukan $p_xc$, $p_mm$, dan $N$ <br>\n",
    "**for** $i=1$ **to** $N$ <br>\n",
    "$\\hspace{1cm}$ **for** $j=1$ **to** $n$ <br>\n",
    "$\\hspace{2cm}$ **Seleksi** <br>\n",
    "$\\hspace{2cm}$ **Crossover** <br>\n",
    "$\\hspace{2cm}$ **Mutasi** <br>\n",
    "$\\hspace{1cm}$ **end for** <br>\n",
    "$\\hspace{1cm}$ Gabung semua kromosom <br>\n",
    "$\\hspace{1cm}$ Pilih $n$ kromosom terbaik (populasi baru) <br>\n",
    "**end for** <br>\n",
    "**STOP**"
   ]
  },
  {
   "cell_type": "markdown",
   "metadata": {},
   "source": [
    "## Implementasi"
   ]
  },
  {
   "cell_type": "markdown",
   "metadata": {},
   "source": [
    "#### Import library"
   ]
  },
  {
   "cell_type": "code",
   "execution_count": 1,
   "metadata": {},
   "outputs": [],
   "source": [
    "from geneticalgorithm import GeneticAlgorithm"
   ]
  },
  {
   "cell_type": "markdown",
   "metadata": {},
   "source": [
    "#### Masukan-masukan"
   ]
  },
  {
   "cell_type": "code",
   "execution_count": 2,
   "metadata": {},
   "outputs": [],
   "source": [
    "# Jumlah kromosom\n",
    "n = 100\n",
    "# Jumlah variabel\n",
    "m = 3\n",
    "\n",
    "# Batas bawah dan atas\n",
    "min_value = -10\n",
    "max_value = 10\n",
    "\n",
    "# Propabilitas corssover dan mutasi serta jumlah generasi\n",
    "pc = 0.99\n",
    "pm = 0.98\n",
    "N = 100"
   ]
  },
  {
   "cell_type": "markdown",
   "metadata": {},
   "source": [
    "#### Hitung hasil"
   ]
  },
  {
   "cell_type": "code",
   "execution_count": 3,
   "metadata": {},
   "outputs": [
    {
     "data": {
      "text/plain": [
       "x1         1.078962\n",
       "x2         2.890803\n",
       "x3        -2.714742\n",
       "fitness    0.052813\n",
       "Name: 0, dtype: float64"
      ]
     },
     "execution_count": 3,
     "metadata": {},
     "output_type": "execute_result"
    }
   ],
   "source": [
    "gen_al = GeneticAlgorithm(n_chrom=n, chrom_length=m,\n",
    "      min_value=min_value, max_value=max_value,\n",
    "      p_cross=pc, p_mut=pm, max_generate=N)\n",
    "gen_al.solve()"
   ]
  },
  {
   "cell_type": "markdown",
   "metadata": {},
   "source": [
    "## Kesimpulan\n",
    "Diperoleh nilai $x_1=1.08,x_2=2.89,x_3=-2.71$. Sedangkan nilai eksaknya adalah $x_1=1,x_2=w,x_3=-3$. Jadi algoritma genetika cukup bagus untuk menentukan hasilnya, tergantung parameter-parameter yang digunakan bisa mempengaruhi hasil yang didapatkan"
   ]
  }
 ],
 "metadata": {
  "kernelspec": {
   "display_name": "Python 3",
   "language": "python",
   "name": "python3"
  },
  "language_info": {
   "codemirror_mode": {
    "name": "ipython",
    "version": 3
   },
   "file_extension": ".py",
   "mimetype": "text/x-python",
   "name": "python",
   "nbconvert_exporter": "python",
   "pygments_lexer": "ipython3",
   "version": "3.7.0"
  }
 },
 "nbformat": 4,
 "nbformat_minor": 2
}
